{
  "nbformat": 4,
  "nbformat_minor": 0,
  "metadata": {
    "colab": {
      "name": "SeleniumINCloud.ipynb",
      "provenance": [],
      "collapsed_sections": [],
      "authorship_tag": "ABX9TyOna0HuwHGI58ZdzpgSARwg",
      "include_colab_link": true
    },
    "kernelspec": {
      "display_name": "Python 3",
      "name": "python3"
    }
  },
  "cells": [
    {
      "cell_type": "markdown",
      "metadata": {
        "id": "view-in-github",
        "colab_type": "text"
      },
      "source": [
        "<a href=\"https://colab.research.google.com/github/saifalimz/GColabProjects/blob/main/SeleniumINCloud.ipynb\" target=\"_parent\"><img src=\"https://colab.research.google.com/assets/colab-badge.svg\" alt=\"Open In Colab\"/></a>"
      ]
    },
    {
      "cell_type": "code",
      "metadata": {
        "id": "VR0q0ZbJbbTT"
      },
      "source": [
        "!apt install chromium-chromedriver\n",
        "!cp /usr/lib/chromium-browser/chromedriver /usr/bin\n",
        "!pip install selenium\n",
        "!pip install python-telegram-bot\n",
        "!pip install pillow\n"
      ],
      "execution_count": null,
      "outputs": []
    },
    {
      "cell_type": "code",
      "metadata": {
        "id": "d9xFUOB6bc6n"
      },
      "source": [
        "from selenium import webdriver\n",
        "from selenium.webdriver.chrome.options import Options\n",
        "import time\n",
        "from os import system, name\n",
        "from telegram import Bot\n",
        "from PIL import Image\n",
        "\n",
        "options = Options()\n",
        "options.add_argument('--ignore-certificate-errors')\n",
        "options.add_argument('--ignore-ssl-errors')\n",
        "options.add_argument('--no-sandbox')\n",
        "options.add_argument(\"--start-maximized\")\n",
        "options.headless = True\n",
        "options.add_argument(\"--window-size=720x4000\")\n",
        "options.add_experimental_option(\"detach\", False)\n",
        "options.add_argument(\"--log-level=3\")\n",
        "options.add_argument(\"user-agent=Mozilla/5.0 (Windows NT 10.0; Win64; x64) AppleWebKit/537.36 (KHTML, like Gecko) Chrome/74.0.3729.169 Safari/537.36\")\n",
        "options.add_argument('-disable-dev-shm-usage')"
      ],
      "execution_count": null,
      "outputs": []
    },
    {
      "cell_type": "code",
      "metadata": {
        "colab": {
          "background_save": true
        },
        "id": "5DpRIPMAcW5_"
      },
      "source": [
        "#DRIVER_BIN = os.getcwd() + '/Desktop/IMMBOT/lib/chromedriver'\n",
        "DRIVER_BIN = 'chromedriver'\n",
        "\n",
        "def clear(): \n",
        "    if name == 'nt': \n",
        "        _ = system('cls') \n",
        "    else: \n",
        "        _ = system('clear')\n",
        "        \n",
        "def IMM(urlx, delay):\n",
        "#    PATH1 = os.getcwd() + '/Desktop/IMMBOT/lib/chatid.txt'\n",
        "#    PATH1 = 'lib/chatid.txt'\n",
        "#    with open(PATH1, 'r') as f:\n",
        "#        CID = [line.rstrip('\\n') for line in f]\n",
        "#    PATH2 = os.getcwd() + '/Desktop/IMMBOT/lib/login.txt'\n",
        "\n",
        "    TOKEN=\"1195040708:AAE1xvhTil2IKiO0o4yPQA7l4MKANcKqN7k\"\n",
        "    bot = Bot(token=TOKEN)\n",
        "    driver = webdriver.Chrome(DRIVER_BIN, options=options)\n",
        "    URLX = urlx\n",
        "    Traker = []\n",
        "    while True:\n",
        "        driver.get(URLX)\n",
        "        time.sleep(3)\n",
        "        \n",
        "        elem = driver.find_elements_by_css_selector(\"div.search-item.showcase.regular-ad\")[0]\n",
        "        el_code = elem.get_attribute('data-listing-id')\n",
        "        \n",
        "        if el_code not in Traker:\n",
        "            img_url = driver.find_element_by_xpath(f\"//*[@data-listing-id='{el_code}']\")\n",
        "            url = \"https://www.kijiji.ca\" + elem.get_attribute('data-vip-url')\n",
        "            \n",
        "            location = img_url.location;\n",
        "            size = img_url.size;\n",
        "            \n",
        "            img_path = 'temp.png'\n",
        "            driver.save_screenshot(img_path);\n",
        "            \n",
        "            x = location['x'];\n",
        "            y = location['y'];\n",
        "            width = location['x']+size['width'];\n",
        "            height = location['y']+size['height'];\n",
        "            \n",
        "            im = Image.open(img_path)\n",
        "            im = im.crop((int(x), int(y), int(width), int(height)))\n",
        "            im.save(img_path)\n",
        "            \n",
        "            bot.sendPhoto(chat_id=\"-336186814\", photo=open('temp.png', 'rb'), caption=f\"{url}\", timeout=1000)\n",
        "            Traker.append(el_code)\n",
        "            print(f\"\\n[LOG]:: New Post Found\\nStatus : Message sent, Waiting for {delay} Seconds.\")\n",
        "        else:\n",
        "            print(f\"\\n[LOG]:: NO New Post Found\\nStatus : None, Waiting for {delay} Seconds.\")\n",
        "            \n",
        "        time.sleep(int(delay) + 5)\n",
        "            \n",
        "while True:\n",
        "    opt = int(input(\"*******************************************************************\\n\"\n",
        "                    \"*    ███████╗ ██████╗██████╗  █████╗ ██████╗ ███████╗██╗  ██╗     *\\n\"\n",
        "                    \"*    ██╔════╝██╔════╝██╔══██╗██╔══██╗██╔══██╗██╔════╝╚██╗██╔╝     *\\n\"\n",
        "                    \"*    ███████╗██║     ██████╔╝███████║██████╔╝█████╗   ╚███╔╝      *\\n\"\n",
        "                    \"*    ╚════██║██║     ██╔══██╗██╔══██║██╔═══╝ ██╔══╝   ██╔██╗      *\\n\"\n",
        "                    \"*    ███████║╚██████╗██║  ██║██║  ██║██║     ███████╗██╔╝ ██╗UI   *\\n\"\n",
        "                    \"*                                                                 *\\n\"\n",
        "                    \"*                    Telegram Notification Bot                    *\\n\"\n",
        "                    \"*******************************************************************\\n\"\n",
        "                    \"* DATA COLLECTION & AUTOMATION BOTS | EXPERIMENTAL BOTS & TOOLS   *\\n\"\n",
        "                    \"*                                                                 *\\n\"\n",
        "                    \"*    SUDOBOTZ.COM | BOTS FOR VARIOUS PLATFORMS | TRY FOR FREE     *\\n\"\n",
        "                    \"*******************************************************************\\n\"\n",
        "                    \"*******************************************************************\\n\"\n",
        "                    \"*                                                                 *\\n\"\n",
        "                    \"*                   CHOOSE FROM BELOW OPTIONS                     *\\n\"\n",
        "                    \"*                  ***************************                    *\\n\"\n",
        "                    \"*                                                                 *\\n\"\n",
        "                    \"*                     1. START BOT                                *\\n\"\n",
        "                    \"*                     2. EXIT BOT                                 *\\n\"\n",
        "                    \"*                                                                 *\\n\"\n",
        "                    \"*******************************************************************\\n\"\n",
        "                    \"*     ENTER NUMBER TO SELECT OPTION AND HIT ENTER. EXAMPLE >>1    *\\n\"\n",
        "                    \"*                                                                 *\\n\"\n",
        "                    \"*******************************************************************\\n\"\n",
        "                    \">>\"))\n",
        "\n",
        "    if opt == 1:\n",
        "        urlx = input(\"\\nEnter URL: \")\n",
        "        delay = input(\"\\nSet Refresh Delay in Seconds (Example:. 60): \")\n",
        "        IMM(urlx, delay)\n",
        "    elif opt == 2:\n",
        "        exit()\n",
        "    else:\n",
        "        print(\"\\n\"\n",
        "              \"Incorrect option selected. Try Again.\\n\")\n",
        "        time.sleep(3)\n",
        "    clear()\n",
        "    "
      ],
      "execution_count": null,
      "outputs": []
    }
  ]
}