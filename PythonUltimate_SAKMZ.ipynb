{
  "nbformat": 4,
  "nbformat_minor": 0,
  "metadata": {
    "colab": {
      "name": "PythonUltimate_SAKMZ.ipynb",
      "provenance": [],
      "collapsed_sections": [],
      "authorship_tag": "ABX9TyMQreHwSh1FuyLraxZN8Lc4",
      "include_colab_link": true
    },
    "kernelspec": {
      "name": "python3",
      "display_name": "Python 3"
    },
    "language_info": {
      "name": "python"
    }
  },
  "cells": [
    {
      "cell_type": "markdown",
      "metadata": {
        "id": "view-in-github",
        "colab_type": "text"
      },
      "source": [
        "<a href=\"https://colab.research.google.com/github/saifalimz/GColabProjects/blob/main/PythonUltimate_SAKMZ.ipynb\" target=\"_parent\"><img src=\"https://colab.research.google.com/assets/colab-badge.svg\" alt=\"Open In Colab\"/></a>"
      ]
    },
    {
      "cell_type": "code",
      "metadata": {
        "colab": {
          "base_uri": "https://localhost:8080/"
        },
        "id": "syRWPzfmqFVP",
        "outputId": "495c2d9c-2052-4a15-800a-940002790579"
      },
      "source": [
        "#Speed Test\n",
        "!curl -s https://raw.githubusercontent.com/sivel/speedtest-cli/master/speedtest.py | python -"
      ],
      "execution_count": 11,
      "outputs": [
        {
          "output_type": "stream",
          "text": [
            "Retrieving speedtest.net configuration...\n",
            "Testing from Google Cloud (35.229.253.209)...\n",
            "Retrieving speedtest.net server list...\n",
            "Selecting best server based on ping...\n",
            "Hosted by Taiwan Fixed Network (Taipei) [1.62 km]: 5.898 ms\n",
            "Testing download speed................................................................................\n",
            "Download: 1919.92 Mbit/s\n",
            "Testing upload speed......................................................................................................\n",
            "Upload: 732.87 Mbit/s\n"
          ],
          "name": "stdout"
        }
      ]
    },
    {
      "cell_type": "code",
      "metadata": {
        "colab": {
          "base_uri": "https://localhost:8080/"
        },
        "id": "Dll8YACIpwyH",
        "outputId": "28cc64d6-0059-446c-aeb1-7cd2cf481a9a"
      },
      "source": [
        "!apt-get install neofetch\n",
        "!neofetch"
      ],
      "execution_count": 10,
      "outputs": [
        {
          "output_type": "stream",
          "text": [
            "Reading package lists... Done\n",
            "Building dependency tree       \n",
            "Reading state information... Done\n",
            "The following NEW packages will be installed:\n",
            "  neofetch\n",
            "0 upgraded, 1 newly installed, 0 to remove and 31 not upgraded.\n",
            "Need to get 74.8 kB of archives.\n",
            "After this operation, 365 kB of additional disk space will be used.\n",
            "Get:1 http://archive.ubuntu.com/ubuntu bionic/universe amd64 neofetch all 3.4.0-1 [74.8 kB]\n",
            "Fetched 74.8 kB in 1s (69.9 kB/s)\n",
            "Selecting previously unselected package neofetch.\n",
            "(Reading database ... 161348 files and directories currently installed.)\n",
            "Preparing to unpack .../neofetch_3.4.0-1_all.deb ...\n",
            "Unpacking neofetch (3.4.0-1) ...\n",
            "Setting up neofetch (3.4.0-1) ...\n",
            "Processing triggers for man-db (2.8.3-2ubuntu0.1) ...\n",
            "\u001b[?25l\u001b[?7l\u001b[0m\u001b[31m\u001b[1m            .-/+oossssoo+/-. \n",
            "        `:+ssssssssssssssssss+:` \n",
            "      -+ssssssssssssssssssyyssss+- \n",
            "    .ossssssssssssssssss\u001b[37m\u001b[0m\u001b[1mdMMMNy\u001b[0m\u001b[31m\u001b[1msssso. \n",
            "   /sssssssssss\u001b[37m\u001b[0m\u001b[1mhdmmNNmmyNMMMMh\u001b[0m\u001b[31m\u001b[1mssssss/ \n",
            "  +sssssssss\u001b[37m\u001b[0m\u001b[1mhm\u001b[0m\u001b[31m\u001b[1myd\u001b[37m\u001b[0m\u001b[1mMMMMMMMNddddy\u001b[0m\u001b[31m\u001b[1mssssssss+ \n",
            " /ssssssss\u001b[37m\u001b[0m\u001b[1mhNMMM\u001b[0m\u001b[31m\u001b[1myh\u001b[37m\u001b[0m\u001b[1mhyyyyhmNMMMNh\u001b[0m\u001b[31m\u001b[1mssssssss/ \n",
            ".ssssssss\u001b[37m\u001b[0m\u001b[1mdMMMNh\u001b[0m\u001b[31m\u001b[1mssssssssss\u001b[37m\u001b[0m\u001b[1mhNMMMd\u001b[0m\u001b[31m\u001b[1mssssssss. \n",
            "+ssss\u001b[37m\u001b[0m\u001b[1mhhhyNMMNy\u001b[0m\u001b[31m\u001b[1mssssssssssss\u001b[37m\u001b[0m\u001b[1myNMMMy\u001b[0m\u001b[31m\u001b[1msssssss+ \n",
            "oss\u001b[37m\u001b[0m\u001b[1myNMMMNyMMh\u001b[0m\u001b[31m\u001b[1mssssssssssssss\u001b[37m\u001b[0m\u001b[1mhmmmh\u001b[0m\u001b[31m\u001b[1mssssssso \n",
            "oss\u001b[37m\u001b[0m\u001b[1myNMMMNyMMh\u001b[0m\u001b[31m\u001b[1msssssssssssssshmmmh\u001b[0m\u001b[31m\u001b[1mssssssso \n",
            "+ssss\u001b[37m\u001b[0m\u001b[1mhhhyNMMNy\u001b[0m\u001b[31m\u001b[1mssssssssssss\u001b[37m\u001b[0m\u001b[1myNMMMy\u001b[0m\u001b[31m\u001b[1msssssss+ \n",
            ".ssssssss\u001b[37m\u001b[0m\u001b[1mdMMMNh\u001b[0m\u001b[31m\u001b[1mssssssssss\u001b[37m\u001b[0m\u001b[1mhNMMMd\u001b[0m\u001b[31m\u001b[1mssssssss. \n",
            " /ssssssss\u001b[37m\u001b[0m\u001b[1mhNMMM\u001b[0m\u001b[31m\u001b[1myh\u001b[37m\u001b[0m\u001b[1mhyyyyhdNMMMNh\u001b[0m\u001b[31m\u001b[1mssssssss/ \n",
            "  +sssssssss\u001b[37m\u001b[0m\u001b[1mdm\u001b[0m\u001b[31m\u001b[1myd\u001b[37m\u001b[0m\u001b[1mMMMMMMMMddddy\u001b[0m\u001b[31m\u001b[1mssssssss+ \n",
            "   /sssssssssss\u001b[37m\u001b[0m\u001b[1mhdmNNNNmyNMMMMh\u001b[0m\u001b[31m\u001b[1mssssss/ \n",
            "    .ossssssssssssssssss\u001b[37m\u001b[0m\u001b[1mdMMMNy\u001b[0m\u001b[31m\u001b[1msssso. \n",
            "      -+sssssssssssssssss\u001b[37m\u001b[0m\u001b[1myyy\u001b[0m\u001b[31m\u001b[1mssss+- \n",
            "        `:+ssssssssssssssssss+:` \n",
            "            .-/+oossssoo+/-. \n",
            "\u001b[20A\u001b[9999999D\u001b[43C\u001b[0m\u001b[1m\u001b[0m\u001b[31m\u001b[1mroot@\u001b[0m\u001b[31m\u001b[1md741bc29c251\u001b[0m \n",
            "\u001b[43C\u001b[0m-----------------\u001b[0m \n",
            "\u001b[43C\u001b[0m\u001b[31m\u001b[1mOS\u001b[0m\u001b[0m:\u001b[0m Ubuntu 18.04.5 LTS x86_64\u001b[0m \n",
            "\u001b[43C\u001b[0m\u001b[31m\u001b[1mHost\u001b[0m\u001b[0m:\u001b[0m Google Compute Engine\u001b[0m \n",
            "\u001b[43C\u001b[0m\u001b[31m\u001b[1mKernel\u001b[0m\u001b[0m:\u001b[0m 4.19.112+\u001b[0m \n",
            "\u001b[43C\u001b[0m\u001b[31m\u001b[1mUptime\u001b[0m\u001b[0m:\u001b[0m 9 mins\u001b[0m \n",
            "\u001b[43C\u001b[0m\u001b[31m\u001b[1mPackages\u001b[0m\u001b[0m:\u001b[0m 1348\u001b[0m \n",
            "\u001b[43C\u001b[0m\u001b[31m\u001b[1mShell\u001b[0m\u001b[0m:\u001b[0m bash 4.4.20\u001b[0m \n",
            "\u001b[43C\u001b[0m\u001b[31m\u001b[1mTerminal\u001b[0m\u001b[0m:\u001b[0m jupyter-noteboo\u001b[0m \n",
            "\u001b[43C\u001b[0m\u001b[31m\u001b[1mCPU\u001b[0m\u001b[0m:\u001b[0m Intel Xeon (2) @ 2.199GHz\u001b[0m \n",
            "\u001b[43C\u001b[0m\u001b[31m\u001b[1mMemory\u001b[0m\u001b[0m:\u001b[0m 632MiB / 13021MiB\u001b[0m \n",
            "\n",
            "\u001b[43C\u001b[0m\u001b[30m\u001b[40m   \u001b[0m\u001b[31m\u001b[41m   \u001b[0m\u001b[32m\u001b[42m   \u001b[0m\u001b[33m\u001b[43m   \u001b[0m\u001b[34m\u001b[44m   \u001b[0m\u001b[35m\u001b[45m   \u001b[0m\u001b[36m\u001b[46m   \u001b[0m\u001b[37m\u001b[47m   \u001b[0m\n",
            "\n",
            "\n",
            "\u001b[6B\u001b[?25h\u001b[?7h"
          ],
          "name": "stdout"
        }
      ]
    },
    {
      "cell_type": "code",
      "metadata": {
        "colab": {
          "base_uri": "https://localhost:8080/"
        },
        "id": "Bm0gBJPPaNgv",
        "outputId": "f7033454-5340-4c04-a0a0-de212167bf6b"
      },
      "source": [
        "!apt install chromium-chromedriver\n",
        "!cp /usr/lib/chromium-browser/chromedriver /usr/bin"
      ],
      "execution_count": 1,
      "outputs": [
        {
          "output_type": "stream",
          "text": [
            "/bin/bash: neofetch: command not found\n",
            "Reading package lists... Done\n",
            "Building dependency tree       \n",
            "Reading state information... Done\n",
            "The following additional packages will be installed:\n",
            "  chromium-browser chromium-browser-l10n chromium-codecs-ffmpeg-extra\n",
            "Suggested packages:\n",
            "  webaccounts-chromium-extension unity-chromium-extension\n",
            "The following NEW packages will be installed:\n",
            "  chromium-browser chromium-browser-l10n chromium-chromedriver\n",
            "  chromium-codecs-ffmpeg-extra\n",
            "0 upgraded, 4 newly installed, 0 to remove and 31 not upgraded.\n",
            "Need to get 83.2 MB of archives.\n",
            "After this operation, 282 MB of additional disk space will be used.\n",
            "Get:1 http://archive.ubuntu.com/ubuntu bionic-updates/universe amd64 chromium-codecs-ffmpeg-extra amd64 89.0.4389.90-0ubuntu0.18.04.2 [1,127 kB]\n",
            "Get:2 http://archive.ubuntu.com/ubuntu bionic-updates/universe amd64 chromium-browser amd64 89.0.4389.90-0ubuntu0.18.04.2 [73.6 MB]\n",
            "Get:3 http://archive.ubuntu.com/ubuntu bionic-updates/universe amd64 chromium-browser-l10n all 89.0.4389.90-0ubuntu0.18.04.2 [3,809 kB]\n",
            "Get:4 http://archive.ubuntu.com/ubuntu bionic-updates/universe amd64 chromium-chromedriver amd64 89.0.4389.90-0ubuntu0.18.04.2 [4,697 kB]\n",
            "Fetched 83.2 MB in 13s (6,513 kB/s)\n",
            "Selecting previously unselected package chromium-codecs-ffmpeg-extra.\n",
            "(Reading database ... 160983 files and directories currently installed.)\n",
            "Preparing to unpack .../chromium-codecs-ffmpeg-extra_89.0.4389.90-0ubuntu0.18.04.2_amd64.deb ...\n",
            "Unpacking chromium-codecs-ffmpeg-extra (89.0.4389.90-0ubuntu0.18.04.2) ...\n",
            "Selecting previously unselected package chromium-browser.\n",
            "Preparing to unpack .../chromium-browser_89.0.4389.90-0ubuntu0.18.04.2_amd64.deb ...\n",
            "Unpacking chromium-browser (89.0.4389.90-0ubuntu0.18.04.2) ...\n",
            "Selecting previously unselected package chromium-browser-l10n.\n",
            "Preparing to unpack .../chromium-browser-l10n_89.0.4389.90-0ubuntu0.18.04.2_all.deb ...\n",
            "Unpacking chromium-browser-l10n (89.0.4389.90-0ubuntu0.18.04.2) ...\n",
            "Selecting previously unselected package chromium-chromedriver.\n",
            "Preparing to unpack .../chromium-chromedriver_89.0.4389.90-0ubuntu0.18.04.2_amd64.deb ...\n",
            "Unpacking chromium-chromedriver (89.0.4389.90-0ubuntu0.18.04.2) ...\n",
            "Setting up chromium-codecs-ffmpeg-extra (89.0.4389.90-0ubuntu0.18.04.2) ...\n",
            "Setting up chromium-browser (89.0.4389.90-0ubuntu0.18.04.2) ...\n",
            "update-alternatives: using /usr/bin/chromium-browser to provide /usr/bin/x-www-browser (x-www-browser) in auto mode\n",
            "update-alternatives: using /usr/bin/chromium-browser to provide /usr/bin/gnome-www-browser (gnome-www-browser) in auto mode\n",
            "Setting up chromium-chromedriver (89.0.4389.90-0ubuntu0.18.04.2) ...\n",
            "Setting up chromium-browser-l10n (89.0.4389.90-0ubuntu0.18.04.2) ...\n",
            "Processing triggers for man-db (2.8.3-2ubuntu0.1) ...\n",
            "Processing triggers for hicolor-icon-theme (0.17-2) ...\n",
            "Processing triggers for mime-support (3.60ubuntu1) ...\n",
            "Processing triggers for libc-bin (2.27-3ubuntu1.2) ...\n",
            "/sbin/ldconfig.real: /usr/local/lib/python3.7/dist-packages/ideep4py/lib/libmkldnn.so.0 is not a symbolic link\n",
            "\n",
            "cp: '/usr/lib/chromium-browser/chromedriver' and '/usr/bin/chromedriver' are the same file\n"
          ],
          "name": "stdout"
        }
      ]
    },
    {
      "cell_type": "code",
      "metadata": {
        "colab": {
          "base_uri": "https://localhost:8080/"
        },
        "id": "Ej_zdt3iVngI",
        "outputId": "92f57ddf-a0d8-415c-b89f-adca228406e4"
      },
      "source": [
        "# !wget -q -O - https://dl-ssl.google.com/linux/linux_signing_key.pub | sudo apt-key add -\n",
        "# !echo 'deb [arch=amd64] http://dl.google.com/linux/chrome/deb/ stable main' | sudo tee /etc/apt/sources.list.d/google-chrome.list\n",
        "# !apt-get update \n",
        "# !apt-get install google-chrome-stable\n",
        "!pip install selenium\n",
        "# !pip install webdriver_manager\n",
        "\n"
      ],
      "execution_count": 2,
      "outputs": [
        {
          "output_type": "stream",
          "text": [
            "Collecting selenium\n",
            "\u001b[?25l  Downloading https://files.pythonhosted.org/packages/80/d6/4294f0b4bce4de0abf13e17190289f9d0613b0a44e5dd6a7f5ca98459853/selenium-3.141.0-py2.py3-none-any.whl (904kB)\n",
            "\r\u001b[K     |▍                               | 10kB 14.6MB/s eta 0:00:01\r\u001b[K     |▊                               | 20kB 13.8MB/s eta 0:00:01\r\u001b[K     |█                               | 30kB 7.8MB/s eta 0:00:01\r\u001b[K     |█▌                              | 40kB 6.7MB/s eta 0:00:01\r\u001b[K     |█▉                              | 51kB 4.2MB/s eta 0:00:01\r\u001b[K     |██▏                             | 61kB 4.9MB/s eta 0:00:01\r\u001b[K     |██▌                             | 71kB 5.2MB/s eta 0:00:01\r\u001b[K     |███                             | 81kB 5.4MB/s eta 0:00:01\r\u001b[K     |███▎                            | 92kB 5.7MB/s eta 0:00:01\r\u001b[K     |███▋                            | 102kB 4.1MB/s eta 0:00:01\r\u001b[K     |████                            | 112kB 4.1MB/s eta 0:00:01\r\u001b[K     |████▍                           | 122kB 4.1MB/s eta 0:00:01\r\u001b[K     |████▊                           | 133kB 4.1MB/s eta 0:00:01\r\u001b[K     |█████                           | 143kB 4.1MB/s eta 0:00:01\r\u001b[K     |█████▍                          | 153kB 4.1MB/s eta 0:00:01\r\u001b[K     |█████▉                          | 163kB 4.1MB/s eta 0:00:01\r\u001b[K     |██████▏                         | 174kB 4.1MB/s eta 0:00:01\r\u001b[K     |██████▌                         | 184kB 4.1MB/s eta 0:00:01\r\u001b[K     |██████▉                         | 194kB 4.1MB/s eta 0:00:01\r\u001b[K     |███████▎                        | 204kB 4.1MB/s eta 0:00:01\r\u001b[K     |███████▋                        | 215kB 4.1MB/s eta 0:00:01\r\u001b[K     |████████                        | 225kB 4.1MB/s eta 0:00:01\r\u001b[K     |████████▎                       | 235kB 4.1MB/s eta 0:00:01\r\u001b[K     |████████▊                       | 245kB 4.1MB/s eta 0:00:01\r\u001b[K     |█████████                       | 256kB 4.1MB/s eta 0:00:01\r\u001b[K     |█████████▍                      | 266kB 4.1MB/s eta 0:00:01\r\u001b[K     |█████████▉                      | 276kB 4.1MB/s eta 0:00:01\r\u001b[K     |██████████▏                     | 286kB 4.1MB/s eta 0:00:01\r\u001b[K     |██████████▌                     | 296kB 4.1MB/s eta 0:00:01\r\u001b[K     |██████████▉                     | 307kB 4.1MB/s eta 0:00:01\r\u001b[K     |███████████▎                    | 317kB 4.1MB/s eta 0:00:01\r\u001b[K     |███████████▋                    | 327kB 4.1MB/s eta 0:00:01\r\u001b[K     |████████████                    | 337kB 4.1MB/s eta 0:00:01\r\u001b[K     |████████████▎                   | 348kB 4.1MB/s eta 0:00:01\r\u001b[K     |████████████▊                   | 358kB 4.1MB/s eta 0:00:01\r\u001b[K     |█████████████                   | 368kB 4.1MB/s eta 0:00:01\r\u001b[K     |█████████████▍                  | 378kB 4.1MB/s eta 0:00:01\r\u001b[K     |█████████████▊                  | 389kB 4.1MB/s eta 0:00:01\r\u001b[K     |██████████████▏                 | 399kB 4.1MB/s eta 0:00:01\r\u001b[K     |██████████████▌                 | 409kB 4.1MB/s eta 0:00:01\r\u001b[K     |██████████████▉                 | 419kB 4.1MB/s eta 0:00:01\r\u001b[K     |███████████████▏                | 430kB 4.1MB/s eta 0:00:01\r\u001b[K     |███████████████▋                | 440kB 4.1MB/s eta 0:00:01\r\u001b[K     |████████████████                | 450kB 4.1MB/s eta 0:00:01\r\u001b[K     |████████████████▎               | 460kB 4.1MB/s eta 0:00:01\r\u001b[K     |████████████████▋               | 471kB 4.1MB/s eta 0:00:01\r\u001b[K     |█████████████████               | 481kB 4.1MB/s eta 0:00:01\r\u001b[K     |█████████████████▍              | 491kB 4.1MB/s eta 0:00:01\r\u001b[K     |█████████████████▊              | 501kB 4.1MB/s eta 0:00:01\r\u001b[K     |██████████████████▏             | 512kB 4.1MB/s eta 0:00:01\r\u001b[K     |██████████████████▌             | 522kB 4.1MB/s eta 0:00:01\r\u001b[K     |██████████████████▉             | 532kB 4.1MB/s eta 0:00:01\r\u001b[K     |███████████████████▏            | 542kB 4.1MB/s eta 0:00:01\r\u001b[K     |███████████████████▋            | 552kB 4.1MB/s eta 0:00:01\r\u001b[K     |████████████████████            | 563kB 4.1MB/s eta 0:00:01\r\u001b[K     |████████████████████▎           | 573kB 4.1MB/s eta 0:00:01\r\u001b[K     |████████████████████▋           | 583kB 4.1MB/s eta 0:00:01\r\u001b[K     |█████████████████████           | 593kB 4.1MB/s eta 0:00:01\r\u001b[K     |█████████████████████▍          | 604kB 4.1MB/s eta 0:00:01\r\u001b[K     |█████████████████████▊          | 614kB 4.1MB/s eta 0:00:01\r\u001b[K     |██████████████████████          | 624kB 4.1MB/s eta 0:00:01\r\u001b[K     |██████████████████████▌         | 634kB 4.1MB/s eta 0:00:01\r\u001b[K     |██████████████████████▉         | 645kB 4.1MB/s eta 0:00:01\r\u001b[K     |███████████████████████▏        | 655kB 4.1MB/s eta 0:00:01\r\u001b[K     |███████████████████████▌        | 665kB 4.1MB/s eta 0:00:01\r\u001b[K     |████████████████████████        | 675kB 4.1MB/s eta 0:00:01\r\u001b[K     |████████████████████████▎       | 686kB 4.1MB/s eta 0:00:01\r\u001b[K     |████████████████████████▋       | 696kB 4.1MB/s eta 0:00:01\r\u001b[K     |█████████████████████████       | 706kB 4.1MB/s eta 0:00:01\r\u001b[K     |█████████████████████████▍      | 716kB 4.1MB/s eta 0:00:01\r\u001b[K     |█████████████████████████▊      | 727kB 4.1MB/s eta 0:00:01\r\u001b[K     |██████████████████████████      | 737kB 4.1MB/s eta 0:00:01\r\u001b[K     |██████████████████████████▍     | 747kB 4.1MB/s eta 0:00:01\r\u001b[K     |██████████████████████████▉     | 757kB 4.1MB/s eta 0:00:01\r\u001b[K     |███████████████████████████▏    | 768kB 4.1MB/s eta 0:00:01\r\u001b[K     |███████████████████████████▌    | 778kB 4.1MB/s eta 0:00:01\r\u001b[K     |████████████████████████████    | 788kB 4.1MB/s eta 0:00:01\r\u001b[K     |████████████████████████████▎   | 798kB 4.1MB/s eta 0:00:01\r\u001b[K     |████████████████████████████▋   | 808kB 4.1MB/s eta 0:00:01\r\u001b[K     |█████████████████████████████   | 819kB 4.1MB/s eta 0:00:01\r\u001b[K     |█████████████████████████████▍  | 829kB 4.1MB/s eta 0:00:01\r\u001b[K     |█████████████████████████████▊  | 839kB 4.1MB/s eta 0:00:01\r\u001b[K     |██████████████████████████████  | 849kB 4.1MB/s eta 0:00:01\r\u001b[K     |██████████████████████████████▍ | 860kB 4.1MB/s eta 0:00:01\r\u001b[K     |██████████████████████████████▉ | 870kB 4.1MB/s eta 0:00:01\r\u001b[K     |███████████████████████████████▏| 880kB 4.1MB/s eta 0:00:01\r\u001b[K     |███████████████████████████████▌| 890kB 4.1MB/s eta 0:00:01\r\u001b[K     |███████████████████████████████▉| 901kB 4.1MB/s eta 0:00:01\r\u001b[K     |████████████████████████████████| 911kB 4.1MB/s \n",
            "\u001b[?25hRequirement already satisfied: urllib3 in /usr/local/lib/python3.7/dist-packages (from selenium) (1.24.3)\n",
            "Installing collected packages: selenium\n",
            "Successfully installed selenium-3.141.0\n"
          ],
          "name": "stdout"
        }
      ]
    },
    {
      "cell_type": "code",
      "metadata": {
        "colab": {
          "base_uri": "https://localhost:8080/"
        },
        "id": "k_1hxg8qVaGo",
        "outputId": "44436ec6-4762-4a84-8d20-7bb5e1912fcb"
      },
      "source": [
        "from selenium import webdriver\n",
        "import time\n",
        "import os, sys\n",
        "from selenium.webdriver.chrome.options import Options\n",
        "# from webdriver_manager.chrome import ChromeDriverManager\n",
        "# from webdriver_manager.utils import ChromeType\n",
        "\n",
        "DRIVER_BIN = 'chromedriver'\n",
        "\n",
        "options = Options()\n",
        "options.add_argument('--ignore-certificate-errors')\n",
        "options.add_argument('--ignore-ssl-errors')\n",
        "options.add_argument('--no-sandbox')\n",
        "options.add_argument(\"--start-maximized\")\n",
        "options.headless = True\n",
        "options.add_argument(\"--window-size=720x4000\")\n",
        "options.add_experimental_option(\"detach\", False)\n",
        "options.add_argument(\"--log-level=3\")\n",
        "options.add_argument(\"user-agent=Mozilla/5.0 (Windows NT 10.0; Win64; x64) AppleWebKit/537.36 (KHTML, like Gecko) Chrome/74.0.3729.169 Safari/537.36\")\n",
        "options.add_argument('-disable-dev-shm-usage')\n",
        "\n",
        "PATH_BIN = os.path.sep.join(sys.argv[0].split(os.path.sep)[:-1])\n",
        "\n",
        "driver = webdriver.Chrome(DRIVER_BIN, options=options)\n",
        "\n",
        "driver.get(\"https://www.sudobotz.com/\")\n",
        "time.sleep(3)\n",
        "\n",
        "print(driver.find_element_by_tag_name('body').text)\n",
        "\n",
        "driver.quit()"
      ],
      "execution_count": 9,
      "outputs": [
        {
          "output_type": "stream",
          "text": [
            "Get Ready!\n",
            "We are working on something really cool.\n",
            "Till Then Please Contact Us On Fiverr.com\n"
          ],
          "name": "stdout"
        }
      ]
    }
  ]
}